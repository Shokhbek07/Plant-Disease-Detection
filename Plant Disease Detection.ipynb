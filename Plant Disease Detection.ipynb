{
 "cells": [
  {
   "cell_type": "markdown",
   "metadata": {
    "id": "GfdJrdD2Z2uV"
   },
   "source": [
    "\n",
    "<div align=\"center\">\n",
    "  <p>\n",
    "\n",
    "  <a href=\"https://github.com/pyresearch/pyresearch\" style=\"text-decoration:none;\">\n",
    "      <img src=\"https://raw.githubusercontent.com/pyresearch/pyresearch/main/pyresearch.jpeg\" width=\"100%\" alt=\"\" /></a>\n",
    "\n",
    "\n",
    "  </p>\n",
    "    \n",
    "\n",
    "[English](README.md) | [简体中文](README.md)\n",
    "</div>    \n",
    "    \n",
    "    \n",
    "\n",
    "\n",
    "## Installation\n",
    "You can  simply use pip to install the latest version of pyresearch.\n",
    "\n",
    "## Installation\n",
    "You can  simply use pip to install the latest version of pyresearch.\n",
    "\n",
    "## <div align=\"center\">`pip install pyresearch`</div>\n",
    "\n",
    "\n",
    "\n",
    "<div align=\"center\">\n",
    "    <a href=\"https://github.com/pyresearch/pyresearch\" style=\"text-decoration:none;\">\n",
    "      <img src=\"https://user-images.githubusercontent.com/34125851/226594737-c21e2dda-9cc6-42ef-b4e7-a685fea4a21d.png\" width=\"2%\" alt=\"\" /></a>\n",
    "    <img src=\"https://user-images.githubusercontent.com/34125851/226595799-160b0da3-c9e0-4562-8544-5f20460f7cc9.png\" width=\"2%\" alt=\"\" />\n",
    "      <a href=\"https://www.linkedin.com/company/pyresearch/\" style=\"text-decoration:none;\">\n",
    "      <img src=\"https://user-images.githubusercontent.com/34125851/226596446-746ffdd0-a47e-4452-84e3-bf11ec2aa26a.png\" width=\"2%\" alt=\"\" /></a>\n",
    "    <img src=\"https://user-images.githubusercontent.com/34125851/226595799-160b0da3-c9e0-4562-8544-5f20460f7cc9.png\" width=\"2%\" alt=\"\" />\n",
    "    <a href=\"https://twitter.com/Noorkhokhar10\" style=\"text-decoration:none;\">\n",
    "      <img src=\"https://user-images.githubusercontent.com/34125851/226599162-9b11194e-4998-440a-ba94-c8a5e1cdc676.png\" width=\"2%\" alt=\"\" /></a>\n",
    "    <img src=\"https://user-images.githubusercontent.com/34125851/226595799-160b0da3-c9e0-4562-8544-5f20460f7cc9.png\" width=\"2%\" alt=\"\" />    \n",
    "    <a href=\"https://www.youtube.com/@Pyresearch\" style=\"text-decoration:none;\">\n",
    "      <img src=\"https://user-images.githubusercontent.com/34125851/226599904-7d5cc5c0-89d2-4d1e-891e-19bee1951744.png\" width=\"2%\" alt=\"\" /></a>\n",
    "    <img src=\"https://user-images.githubusercontent.com/34125851/226595799-160b0da3-c9e0-4562-8544-5f20460f7cc9.png\" width=\"2%\" alt=\"\" />\n",
    "    <a href=\"https://www.facebook.com/Pyresearch\" style=\"text-decoration:none;\">\n",
    "      <img src=\"https://user-images.githubusercontent.com/34125851/226600380-a87a9142-e8e0-4ec9-bf2c-dd6e9da2f05a.png\" width=\"2%\" alt=\"\" /></a>\n",
    "    <img src=\"https://user-images.githubusercontent.com/34125851/226595799-160b0da3-c9e0-4562-8544-5f20460f7cc9.png\" width=\"2%\" alt=\"\" />\n",
    "    <a href=\"https://www.instagram.com/pyresearch/\" style=\"text-decoration:none;\">  \n",
    "      <img src=\"https://user-images.githubusercontent.com/34125851/226601355-ffe0b597-9840-4e10-bbef-43d6c74b5a9e.png\" width=\"2%\" alt=\"\" /></a>      \n",
    "  </div>\n",
    "\n",
    "\n",
    "\n",
    "<hr>\n"
   ]
  },
  {
   "cell_type": "code",
   "execution_count": 14,
   "metadata": {
    "id": "t3EicAimZU2V"
   },
   "outputs": [
    {
     "name": "stdout",
     "output_type": "stream",
     "text": [
      "Requirement already satisfied: tensor-dash in /Library/Frameworks/Python.framework/Versions/3.11/lib/python3.11/site-packages (1.8.1)\n",
      "Requirement already satisfied: requests in /Library/Frameworks/Python.framework/Versions/3.11/lib/python3.11/site-packages (from tensor-dash) (2.32.3)\n",
      "Requirement already satisfied: charset-normalizer<4,>=2 in /Library/Frameworks/Python.framework/Versions/3.11/lib/python3.11/site-packages (from requests->tensor-dash) (3.1.0)\n",
      "Requirement already satisfied: idna<4,>=2.5 in /Library/Frameworks/Python.framework/Versions/3.11/lib/python3.11/site-packages (from requests->tensor-dash) (3.4)\n",
      "Requirement already satisfied: urllib3<3,>=1.21.1 in /Library/Frameworks/Python.framework/Versions/3.11/lib/python3.11/site-packages (from requests->tensor-dash) (1.26.15)\n",
      "Requirement already satisfied: certifi>=2017.4.17 in /Library/Frameworks/Python.framework/Versions/3.11/lib/python3.11/site-packages (from requests->tensor-dash) (2022.12.7)\n",
      "\n",
      "\u001b[1m[\u001b[0m\u001b[34;49mnotice\u001b[0m\u001b[1;39;49m]\u001b[0m\u001b[39;49m A new release of pip is available: \u001b[0m\u001b[31;49m24.0\u001b[0m\u001b[39;49m -> \u001b[0m\u001b[32;49m24.3.1\u001b[0m\n",
      "\u001b[1m[\u001b[0m\u001b[34;49mnotice\u001b[0m\u001b[1;39;49m]\u001b[0m\u001b[39;49m To update, run: \u001b[0m\u001b[32;49mpip install --upgrade pip\u001b[0m\n"
     ]
    }
   ],
   "source": [
    "# Downloading Necessary libraries\n",
    "!pip install tensor-dash"
   ]
  },
  {
   "cell_type": "code",
   "execution_count": 2,
   "metadata": {
    "colab": {
     "base_uri": "https://localhost:8080/"
    },
    "executionInfo": {
     "elapsed": 19296,
     "status": "ok",
     "timestamp": 1698333113653,
     "user": {
      "displayName": "Py research",
      "userId": "01140019909617408866"
     },
     "user_tz": -300
    },
    "id": "qloXKz1ggZUO",
    "outputId": "ce51a6f8-98cf-4e89-e6f6-6b8fe8bdd7e2"
   },
   "outputs": [
    {
     "ename": "ModuleNotFoundError",
     "evalue": "No module named 'google'",
     "output_type": "error",
     "traceback": [
      "\u001b[0;31m---------------------------------------------------------------------------\u001b[0m",
      "\u001b[0;31mModuleNotFoundError\u001b[0m                       Traceback (most recent call last)",
      "Cell \u001b[0;32mIn[2], line 1\u001b[0m\n\u001b[0;32m----> 1\u001b[0m \u001b[38;5;28;01mfrom\u001b[39;00m \u001b[38;5;21;01mgoogle\u001b[39;00m\u001b[38;5;21;01m.\u001b[39;00m\u001b[38;5;21;01mcolab\u001b[39;00m \u001b[38;5;28;01mimport\u001b[39;00m drive\n\u001b[1;32m      2\u001b[0m drive\u001b[38;5;241m.\u001b[39mmount(\u001b[38;5;124m'\u001b[39m\u001b[38;5;124m/content/drive\u001b[39m\u001b[38;5;124m'\u001b[39m)\n",
      "\u001b[0;31mModuleNotFoundError\u001b[0m: No module named 'google'"
     ]
    }
   ],
   "source": [
    "from google.colab import drive\n",
    "drive.mount('/content/drive')"
   ]
  },
  {
   "cell_type": "code",
   "execution_count": null,
   "metadata": {
    "colab": {
     "base_uri": "https://localhost:8080/"
    },
    "executionInfo": {
     "elapsed": 435,
     "status": "ok",
     "timestamp": 1698333114083,
     "user": {
      "displayName": "Py research",
      "userId": "01140019909617408866"
     },
     "user_tz": -300
    },
    "id": "nCFsSQKagnS3",
    "outputId": "04cf2a6f-d499-4042-9a1f-04ac296e3a56"
   },
   "outputs": [],
   "source": [
    "!ls"
   ]
  },
  {
   "cell_type": "code",
   "execution_count": null,
   "metadata": {
    "id": "6U2GIc9uf7V7"
   },
   "outputs": [],
   "source": [
    "# Reading the Training Data\n",
    "dataset = pd.read_csv('/content/drive/MyDrive/Colab Notebooks/plant/train.csv')"
   ]
  },
  {
   "cell_type": "code",
   "execution_count": null,
   "metadata": {
    "id": "T6zrX1X9f7V_"
   },
   "outputs": [],
   "source": [
    "# Importing Necessary Libraries\n",
    "import tensorflow as tf\n",
    "import tensorflow.keras as keras\n",
    "import matplotlib.pyplot as plt\n",
    "from sklearn.model_selection import train_test_split\n",
    "from tensordash.tensordash import Tensordash\n",
    "import plotly.express as px\n",
    "import json\n",
    "import skimage.io as io\n",
    "#user_secrets = UserSecretsClient()\n",
    "#secret_value_0 = user_secrets.get_secret(\"email\")\n",
    "#secret_value_1 = user_secrets.get_secret(\"pin\")"
   ]
  },
  {
   "cell_type": "code",
   "execution_count": null,
   "metadata": {
    "colab": {
     "base_uri": "https://localhost:8080/",
     "height": 424
    },
    "executionInfo": {
     "elapsed": 20,
     "status": "ok",
     "timestamp": 1698333120150,
     "user": {
      "displayName": "Py research",
      "userId": "01140019909617408866"
     },
     "user_tz": -300
    },
    "id": "sM6Wv1VEf7V_",
    "outputId": "a803cc36-dd92-49cb-b384-3935d9fb251c"
   },
   "outputs": [],
   "source": [
    "dataset"
   ]
  },
  {
   "cell_type": "markdown",
   "metadata": {
    "id": "VbFZjecLf7WA"
   },
   "source": [
    "# Data Exploration and Visualisation"
   ]
  },
  {
   "cell_type": "markdown",
   "metadata": {
    "id": "E738WsAWf7WC"
   },
   "source": [
    "## Data Exploration"
   ]
  },
  {
   "cell_type": "code",
   "execution_count": 1,
   "metadata": {
    "colab": {
     "base_uri": "https://localhost:8080/"
    },
    "executionInfo": {
     "elapsed": 17,
     "status": "ok",
     "timestamp": 1698333120150,
     "user": {
      "displayName": "Py research",
      "userId": "01140019909617408866"
     },
     "user_tz": -300
    },
    "id": "yVEL4oibf7WD",
    "outputId": "37bc74ec-1b33-452a-e832-0a2358008d09"
   },
   "outputs": [
    {
     "ename": "NameError",
     "evalue": "name 'dataset' is not defined",
     "output_type": "error",
     "traceback": [
      "\u001b[0;31m---------------------------------------------------------------------------\u001b[0m",
      "\u001b[0;31mNameError\u001b[0m                                 Traceback (most recent call last)",
      "Cell \u001b[0;32mIn[1], line 2\u001b[0m\n\u001b[1;32m      1\u001b[0m \u001b[38;5;66;03m# Checking if there are any null values in the dataset\u001b[39;00m\n\u001b[0;32m----> 2\u001b[0m \u001b[43mdataset\u001b[49m\u001b[38;5;241m.\u001b[39misnull()\u001b[38;5;241m.\u001b[39many()\n",
      "\u001b[0;31mNameError\u001b[0m: name 'dataset' is not defined"
     ]
    }
   ],
   "source": [
    "# Checking if there are any null values in the dataset\n",
    "dataset.isnull().any()"
   ]
  },
  {
   "cell_type": "code",
   "execution_count": null,
   "metadata": {
    "colab": {
     "base_uri": "https://localhost:8080/"
    },
    "executionInfo": {
     "elapsed": 15,
     "status": "ok",
     "timestamp": 1698333120150,
     "user": {
      "displayName": "Py research",
      "userId": "01140019909617408866"
     },
     "user_tz": -300
    },
    "id": "472s6gZ0f7WE",
    "outputId": "995e60e4-8d57-428c-b565-57573895d733"
   },
   "outputs": [],
   "source": [
    "# Checking the column data type\n",
    "dataset.dtypes"
   ]
  },
  {
   "cell_type": "code",
   "execution_count": null,
   "metadata": {
    "id": "Jc4ZbVKNf7WF"
   },
   "outputs": [],
   "source": [
    "# Adding .jpg extension to every image_id\n",
    "dataset['image_id'] = dataset['image_id']+'.jpg'"
   ]
  },
  {
   "cell_type": "code",
   "execution_count": null,
   "metadata": {
    "colab": {
     "base_uri": "https://localhost:8080/",
     "height": 424
    },
    "executionInfo": {
     "elapsed": 13,
     "status": "ok",
     "timestamp": 1698333120150,
     "user": {
      "displayName": "Py research",
      "userId": "01140019909617408866"
     },
     "user_tz": -300
    },
    "id": "mSHZbkZXf7WF",
    "outputId": "6e9aebdf-8449-4d6a-cb07-ea976f8d963a"
   },
   "outputs": [],
   "source": [
    "dataset"
   ]
  },
  {
   "cell_type": "markdown",
   "metadata": {
    "id": "tQE0UsNmf7WG"
   },
   "source": [
    "## Data Visualisation"
   ]
  },
  {
   "cell_type": "markdown",
   "metadata": {
    "id": "GPHLsBeMf7WG"
   },
   "source": [
    "## Classes Distribution"
   ]
  },
  {
   "cell_type": "code",
   "execution_count": 3,
   "metadata": {
    "colab": {
     "base_uri": "https://localhost:8080/",
     "height": 470
    },
    "executionInfo": {
     "elapsed": 465,
     "status": "ok",
     "timestamp": 1698333120604,
     "user": {
      "displayName": "Py research",
      "userId": "01140019909617408866"
     },
     "user_tz": -300
    },
    "id": "PLWLjRrwf7WH",
    "outputId": "4eae526b-e4e8-42da-d34c-5bc343c2941c"
   },
   "outputs": [
    {
     "ename": "NameError",
     "evalue": "name 'dataset' is not defined",
     "output_type": "error",
     "traceback": [
      "\u001b[0;31m---------------------------------------------------------------------------\u001b[0m",
      "\u001b[0;31mNameError\u001b[0m                                 Traceback (most recent call last)",
      "Cell \u001b[0;32mIn[3], line 1\u001b[0m\n\u001b[0;32m----> 1\u001b[0m \u001b[43mdataset\u001b[49m\u001b[38;5;241m.\u001b[39mhealthy\u001b[38;5;241m.\u001b[39mhist()\n\u001b[1;32m      2\u001b[0m plt\u001b[38;5;241m.\u001b[39mtitle(\u001b[38;5;124m'\u001b[39m\u001b[38;5;124mHealthy Classes\u001b[39m\u001b[38;5;124m'\u001b[39m)\n",
      "\u001b[0;31mNameError\u001b[0m: name 'dataset' is not defined"
     ]
    }
   ],
   "source": [
    "dataset.healthy.hist()\n",
    "plt.title('Healthy Classes')"
   ]
  },
  {
   "cell_type": "code",
   "execution_count": 4,
   "metadata": {
    "colab": {
     "base_uri": "https://localhost:8080/",
     "height": 470
    },
    "executionInfo": {
     "elapsed": 831,
     "status": "ok",
     "timestamp": 1698333121426,
     "user": {
      "displayName": "Py research",
      "userId": "01140019909617408866"
     },
     "user_tz": -300
    },
    "id": "Fhkofkrtf7WH",
    "outputId": "dd86694f-7a37-4d49-a641-e6974b58ba40"
   },
   "outputs": [
    {
     "ename": "NameError",
     "evalue": "name 'dataset' is not defined",
     "output_type": "error",
     "traceback": [
      "\u001b[0;31m---------------------------------------------------------------------------\u001b[0m",
      "\u001b[0;31mNameError\u001b[0m                                 Traceback (most recent call last)",
      "Cell \u001b[0;32mIn[4], line 1\u001b[0m\n\u001b[0;32m----> 1\u001b[0m \u001b[43mdataset\u001b[49m\u001b[38;5;241m.\u001b[39mmultiple_diseases\u001b[38;5;241m.\u001b[39mhist()\n\u001b[1;32m      2\u001b[0m plt\u001b[38;5;241m.\u001b[39mtitle(\u001b[38;5;124m'\u001b[39m\u001b[38;5;124mMultiple Diseases Classes\u001b[39m\u001b[38;5;124m'\u001b[39m)\n",
      "\u001b[0;31mNameError\u001b[0m: name 'dataset' is not defined"
     ]
    }
   ],
   "source": [
    "dataset.multiple_diseases.hist()\n",
    "plt.title('Multiple Diseases Classes')"
   ]
  },
  {
   "cell_type": "code",
   "execution_count": 5,
   "metadata": {
    "colab": {
     "base_uri": "https://localhost:8080/",
     "height": 470
    },
    "executionInfo": {
     "elapsed": 1011,
     "status": "ok",
     "timestamp": 1698333122429,
     "user": {
      "displayName": "Py research",
      "userId": "01140019909617408866"
     },
     "user_tz": -300
    },
    "id": "vOPYC4WEf7WJ",
    "outputId": "b8d83f9d-898e-43a2-e089-3214fd83f062"
   },
   "outputs": [
    {
     "ename": "NameError",
     "evalue": "name 'dataset' is not defined",
     "output_type": "error",
     "traceback": [
      "\u001b[0;31m---------------------------------------------------------------------------\u001b[0m",
      "\u001b[0;31mNameError\u001b[0m                                 Traceback (most recent call last)",
      "Cell \u001b[0;32mIn[5], line 1\u001b[0m\n\u001b[0;32m----> 1\u001b[0m \u001b[43mdataset\u001b[49m\u001b[38;5;241m.\u001b[39mrust\u001b[38;5;241m.\u001b[39mhist()\n\u001b[1;32m      2\u001b[0m plt\u001b[38;5;241m.\u001b[39mtitle(\u001b[38;5;124m'\u001b[39m\u001b[38;5;124mRust Classes\u001b[39m\u001b[38;5;124m'\u001b[39m)\n",
      "\u001b[0;31mNameError\u001b[0m: name 'dataset' is not defined"
     ]
    }
   ],
   "source": [
    "dataset.rust.hist()\n",
    "plt.title('Rust Classes')"
   ]
  },
  {
   "cell_type": "code",
   "execution_count": 6,
   "metadata": {
    "colab": {
     "base_uri": "https://localhost:8080/",
     "height": 470
    },
    "executionInfo": {
     "elapsed": 14,
     "status": "ok",
     "timestamp": 1698333122430,
     "user": {
      "displayName": "Py research",
      "userId": "01140019909617408866"
     },
     "user_tz": -300
    },
    "id": "LeeckroCf7WK",
    "outputId": "30b47235-ce37-412a-a50c-7a0d336e67a4"
   },
   "outputs": [
    {
     "ename": "NameError",
     "evalue": "name 'dataset' is not defined",
     "output_type": "error",
     "traceback": [
      "\u001b[0;31m---------------------------------------------------------------------------\u001b[0m",
      "\u001b[0;31mNameError\u001b[0m                                 Traceback (most recent call last)",
      "Cell \u001b[0;32mIn[6], line 1\u001b[0m\n\u001b[0;32m----> 1\u001b[0m \u001b[43mdataset\u001b[49m\u001b[38;5;241m.\u001b[39mscab\u001b[38;5;241m.\u001b[39mhist()\n\u001b[1;32m      2\u001b[0m plt\u001b[38;5;241m.\u001b[39mtitle(\u001b[38;5;124m'\u001b[39m\u001b[38;5;124mScab Classes\u001b[39m\u001b[38;5;124m'\u001b[39m)\n",
      "\u001b[0;31mNameError\u001b[0m: name 'dataset' is not defined"
     ]
    }
   ],
   "source": [
    "dataset.scab.hist()\n",
    "plt.title('Scab Classes')"
   ]
  },
  {
   "cell_type": "markdown",
   "metadata": {
    "id": "WiOa4gS6f7WL"
   },
   "source": [
    "## Class Image Visualisation"
   ]
  },
  {
   "cell_type": "code",
   "execution_count": 7,
   "metadata": {
    "colab": {
     "base_uri": "https://localhost:8080/",
     "height": 910,
     "output_embedded_package_id": "1hPdxaZn9VvSefrlxRYLFoweWxyBsuva9"
    },
    "executionInfo": {
     "elapsed": 35942,
     "status": "ok",
     "timestamp": 1698333158364,
     "user": {
      "displayName": "Py research",
      "userId": "01140019909617408866"
     },
     "user_tz": -300
    },
    "id": "ejxuO2P3f7WL",
    "outputId": "e0366ac2-1fa3-4c9c-f01e-0055d9f6c474"
   },
   "outputs": [
    {
     "ename": "NameError",
     "evalue": "name 'plt' is not defined",
     "output_type": "error",
     "traceback": [
      "\u001b[0;31m---------------------------------------------------------------------------\u001b[0m",
      "\u001b[0;31mNameError\u001b[0m                                 Traceback (most recent call last)",
      "Cell \u001b[0;32mIn[7], line 3\u001b[0m\n\u001b[1;32m      1\u001b[0m w\u001b[38;5;241m=\u001b[39m\u001b[38;5;241m10\u001b[39m\n\u001b[1;32m      2\u001b[0m h\u001b[38;5;241m=\u001b[39m\u001b[38;5;241m10\u001b[39m\n\u001b[0;32m----> 3\u001b[0m fig\u001b[38;5;241m=\u001b[39m\u001b[43mplt\u001b[49m\u001b[38;5;241m.\u001b[39mfigure(figsize\u001b[38;5;241m=\u001b[39m(\u001b[38;5;241m20\u001b[39m, \u001b[38;5;241m14\u001b[39m))\n\u001b[1;32m      4\u001b[0m columns \u001b[38;5;241m=\u001b[39m \u001b[38;5;241m4\u001b[39m\n\u001b[1;32m      5\u001b[0m rows \u001b[38;5;241m=\u001b[39m \u001b[38;5;241m4\u001b[39m\n",
      "\u001b[0;31mNameError\u001b[0m: name 'plt' is not defined"
     ]
    }
   ],
   "source": [
    "w=10\n",
    "h=10\n",
    "fig=plt.figure(figsize=(20, 14))\n",
    "columns = 4\n",
    "rows = 4\n",
    "plt.title('Image Class')\n",
    "plt.axis('off')\n",
    "for i in range(1, columns*rows +1):\n",
    "    img = plt.imread(f'/content/drive/MyDrive/Colab Notebooks/plant/images/Train_{i}.jpg')\n",
    "    fig.add_subplot(rows, columns, i)\n",
    "\n",
    "    if dataset.healthy[i] == 1:\n",
    "        plt.title('Healthy')\n",
    "    elif dataset.multiple_diseases[i] == 1:\n",
    "        plt.title('Multiple Disease')\n",
    "    elif dataset.rust[i] == 1:\n",
    "        plt.title('Rust')\n",
    "    else:\n",
    "        plt.title('Scab')\n",
    "    plt.imshow(img)\n",
    "    plt.axis('off')\n",
    "plt.show()"
   ]
  },
  {
   "cell_type": "markdown",
   "metadata": {
    "id": "ZAcUwsRuf7WM"
   },
   "source": [
    "# Image Segmentation"
   ]
  },
  {
   "cell_type": "markdown",
   "metadata": {
    "id": "L0de5zsEf7WM"
   },
   "source": [
    "Multiple Histogram for different pixles intensity values"
   ]
  },
  {
   "cell_type": "code",
   "execution_count": 8,
   "metadata": {
    "colab": {
     "base_uri": "https://localhost:8080/",
     "height": 877
    },
    "executionInfo": {
     "elapsed": 2897,
     "status": "ok",
     "timestamp": 1698333161242,
     "user": {
      "displayName": "Py research",
      "userId": "01140019909617408866"
     },
     "user_tz": -300
    },
    "id": "y-wZE3JWf7WM",
    "outputId": "3421221e-0585-4762-99da-dbce300417a3"
   },
   "outputs": [
    {
     "ename": "NameError",
     "evalue": "name 'plt' is not defined",
     "output_type": "error",
     "traceback": [
      "\u001b[0;31m---------------------------------------------------------------------------\u001b[0m",
      "\u001b[0;31mNameError\u001b[0m                                 Traceback (most recent call last)",
      "Cell \u001b[0;32mIn[8], line 3\u001b[0m\n\u001b[1;32m      1\u001b[0m w\u001b[38;5;241m=\u001b[39m\u001b[38;5;241m10\u001b[39m\n\u001b[1;32m      2\u001b[0m h\u001b[38;5;241m=\u001b[39m\u001b[38;5;241m10\u001b[39m\n\u001b[0;32m----> 3\u001b[0m fig\u001b[38;5;241m=\u001b[39m\u001b[43mplt\u001b[49m\u001b[38;5;241m.\u001b[39mfigure(figsize\u001b[38;5;241m=\u001b[39m(\u001b[38;5;241m20\u001b[39m, \u001b[38;5;241m14\u001b[39m))\n\u001b[1;32m      4\u001b[0m columns \u001b[38;5;241m=\u001b[39m \u001b[38;5;241m4\u001b[39m\n\u001b[1;32m      5\u001b[0m rows \u001b[38;5;241m=\u001b[39m \u001b[38;5;241m4\u001b[39m\n",
      "\u001b[0;31mNameError\u001b[0m: name 'plt' is not defined"
     ]
    }
   ],
   "source": [
    "w=10\n",
    "h=10\n",
    "fig=plt.figure(figsize=(20, 14))\n",
    "columns = 4\n",
    "rows = 4\n",
    "plt.axis('off')\n",
    "for i in range(1, columns*rows +1):\n",
    "    img = plt.imread(f'/content/drive/MyDrive/Colab Notebooks/plant/images/Train_{i}.jpg')\n",
    "    fig.add_subplot(rows, columns, i)\n",
    "    plt.hist(img.ravel(), bins=32, range=[0, 256])\n",
    "plt.show()"
   ]
  },
  {
   "cell_type": "code",
   "execution_count": 9,
   "metadata": {
    "colab": {
     "base_uri": "https://localhost:8080/"
    },
    "executionInfo": {
     "elapsed": 22,
     "status": "ok",
     "timestamp": 1698333161242,
     "user": {
      "displayName": "Py research",
      "userId": "01140019909617408866"
     },
     "user_tz": -300
    },
    "id": "Ft_nNIAef7WN",
    "outputId": "7375cfd2-295e-4681-9bcd-1aae9f1a0186"
   },
   "outputs": [
    {
     "ename": "NameError",
     "evalue": "name 'img' is not defined",
     "output_type": "error",
     "traceback": [
      "\u001b[0;31m---------------------------------------------------------------------------\u001b[0m",
      "\u001b[0;31mNameError\u001b[0m                                 Traceback (most recent call last)",
      "Cell \u001b[0;32mIn[9], line 1\u001b[0m\n\u001b[0;32m----> 1\u001b[0m \u001b[43mimg\u001b[49m\u001b[38;5;241m.\u001b[39mshape\n",
      "\u001b[0;31mNameError\u001b[0m: name 'img' is not defined"
     ]
    }
   ],
   "source": [
    "img.shape"
   ]
  },
  {
   "cell_type": "markdown",
   "metadata": {
    "id": "yj9uItaWf7WN"
   },
   "source": [
    "# Making Training Data"
   ]
  },
  {
   "cell_type": "markdown",
   "metadata": {
    "id": "ygYhGEoHf7WN"
   },
   "source": [
    "## Reading data from Keras Generators"
   ]
  },
  {
   "cell_type": "code",
   "execution_count": 10,
   "metadata": {
    "id": "lyZACjxff7WN"
   },
   "outputs": [
    {
     "ename": "NameError",
     "evalue": "name 'keras' is not defined",
     "output_type": "error",
     "traceback": [
      "\u001b[0;31m---------------------------------------------------------------------------\u001b[0m",
      "\u001b[0;31mNameError\u001b[0m                                 Traceback (most recent call last)",
      "Cell \u001b[0;32mIn[10], line 1\u001b[0m\n\u001b[0;32m----> 1\u001b[0m datagen \u001b[38;5;241m=\u001b[39m \u001b[43mkeras\u001b[49m\u001b[38;5;241m.\u001b[39mpreprocessing\u001b[38;5;241m.\u001b[39mimage\u001b[38;5;241m.\u001b[39mImageDataGenerator(\n\u001b[1;32m      2\u001b[0m         rescale\u001b[38;5;241m=\u001b[39m\u001b[38;5;241m1.\u001b[39m\u001b[38;5;241m/\u001b[39m\u001b[38;5;241m255\u001b[39m,\n\u001b[1;32m      3\u001b[0m         zca_whitening\u001b[38;5;241m=\u001b[39m\u001b[38;5;28;01mFalse\u001b[39;00m,  \u001b[38;5;66;03m# apply ZCA whitening\u001b[39;00m\n\u001b[1;32m      4\u001b[0m         rotation_range\u001b[38;5;241m=\u001b[39m\u001b[38;5;241m180\u001b[39m,  \u001b[38;5;66;03m# randomly rotate images in the range (degrees, 0 to 180)\u001b[39;00m\n\u001b[1;32m      5\u001b[0m         zoom_range \u001b[38;5;241m=\u001b[39m \u001b[38;5;241m0.15\u001b[39m, \u001b[38;5;66;03m# Randomly zoom image\u001b[39;00m\n\u001b[1;32m      6\u001b[0m         width_shift_range\u001b[38;5;241m=\u001b[39m\u001b[38;5;241m0.15\u001b[39m,  \u001b[38;5;66;03m# randomly shift images horizontally (fraction of total width)\u001b[39;00m\n\u001b[1;32m      7\u001b[0m         height_shift_range\u001b[38;5;241m=\u001b[39m\u001b[38;5;241m0.15\u001b[39m,  \u001b[38;5;66;03m# randomly shift images vertically (fraction of total height)\u001b[39;00m\n\u001b[1;32m      8\u001b[0m         horizontal_flip\u001b[38;5;241m=\u001b[39m\u001b[38;5;28;01mTrue\u001b[39;00m,  \u001b[38;5;66;03m# randomly flip images\u001b[39;00m\n\u001b[1;32m      9\u001b[0m         vertical_flip\u001b[38;5;241m=\u001b[39m\u001b[38;5;28;01mTrue\u001b[39;00m)  \u001b[38;5;66;03m# randomly flip images\u001b[39;00m\n",
      "\u001b[0;31mNameError\u001b[0m: name 'keras' is not defined"
     ]
    }
   ],
   "source": [
    "datagen = keras.preprocessing.image.ImageDataGenerator(\n",
    "        rescale=1./255,\n",
    "        zca_whitening=False,  # apply ZCA whitening\n",
    "        rotation_range=180,  # randomly rotate images in the range (degrees, 0 to 180)\n",
    "        zoom_range = 0.15, # Randomly zoom image\n",
    "        width_shift_range=0.15,  # randomly shift images horizontally (fraction of total width)\n",
    "        height_shift_range=0.15,  # randomly shift images vertically (fraction of total height)\n",
    "        horizontal_flip=True,  # randomly flip images\n",
    "        vertical_flip=True)  # randomly flip images"
   ]
  },
  {
   "cell_type": "code",
   "execution_count": 11,
   "metadata": {
    "id": "uilCelNDf7WN"
   },
   "outputs": [
    {
     "ename": "NameError",
     "evalue": "name 'train_test_split' is not defined",
     "output_type": "error",
     "traceback": [
      "\u001b[0;31m---------------------------------------------------------------------------\u001b[0m",
      "\u001b[0;31mNameError\u001b[0m                                 Traceback (most recent call last)",
      "Cell \u001b[0;32mIn[11], line 1\u001b[0m\n\u001b[0;32m----> 1\u001b[0m X_train, X_valid \u001b[38;5;241m=\u001b[39m \u001b[43mtrain_test_split\u001b[49m(dataset, test_size\u001b[38;5;241m=\u001b[39m\u001b[38;5;241m0.05\u001b[39m, shuffle\u001b[38;5;241m=\u001b[39m\u001b[38;5;28;01mFalse\u001b[39;00m)\n",
      "\u001b[0;31mNameError\u001b[0m: name 'train_test_split' is not defined"
     ]
    }
   ],
   "source": [
    "X_train, X_valid = train_test_split(dataset, test_size=0.05, shuffle=False)"
   ]
  },
  {
   "cell_type": "markdown",
   "metadata": {
    "id": "wWqvSlY-f7WO"
   },
   "source": [
    "## Making a Tensorflow Dataset"
   ]
  },
  {
   "cell_type": "code",
   "execution_count": 12,
   "metadata": {
    "colab": {
     "base_uri": "https://localhost:8080/"
    },
    "executionInfo": {
     "elapsed": 6,
     "status": "ok",
     "timestamp": 1698333161871,
     "user": {
      "displayName": "Py research",
      "userId": "01140019909617408866"
     },
     "user_tz": -300
    },
    "id": "9CcUvaEBf7WO",
    "outputId": "75ef6032-3911-4803-d823-05e8999a6d13"
   },
   "outputs": [
    {
     "ename": "NameError",
     "evalue": "name 'datagen' is not defined",
     "output_type": "error",
     "traceback": [
      "\u001b[0;31m---------------------------------------------------------------------------\u001b[0m",
      "\u001b[0;31mNameError\u001b[0m                                 Traceback (most recent call last)",
      "Cell \u001b[0;32mIn[12], line 3\u001b[0m\n\u001b[1;32m      1\u001b[0m BATCH_SIZE \u001b[38;5;241m=\u001b[39m \u001b[38;5;241m8\u001b[39m\n\u001b[0;32m----> 3\u001b[0m train_generator \u001b[38;5;241m=\u001b[39m \u001b[43mdatagen\u001b[49m\u001b[38;5;241m.\u001b[39mflow_from_dataframe(dataset,\n\u001b[1;32m      4\u001b[0m                     directory\u001b[38;5;241m=\u001b[39m\u001b[38;5;124m'\u001b[39m\u001b[38;5;124m/content/drive/MyDrive/Colab Notebooks/plant/images/\u001b[39m\u001b[38;5;124m'\u001b[39m,\n\u001b[1;32m      5\u001b[0m                     x_col\u001b[38;5;241m=\u001b[39m\u001b[38;5;124m'\u001b[39m\u001b[38;5;124mimage_id\u001b[39m\u001b[38;5;124m'\u001b[39m,\n\u001b[1;32m      6\u001b[0m                     y_col\u001b[38;5;241m=\u001b[39m[\u001b[38;5;124m'\u001b[39m\u001b[38;5;124mhealthy\u001b[39m\u001b[38;5;124m'\u001b[39m, \u001b[38;5;124m'\u001b[39m\u001b[38;5;124mmultiple_diseases\u001b[39m\u001b[38;5;124m'\u001b[39m, \u001b[38;5;124m'\u001b[39m\u001b[38;5;124mrust\u001b[39m\u001b[38;5;124m'\u001b[39m, \u001b[38;5;124m'\u001b[39m\u001b[38;5;124mscab\u001b[39m\u001b[38;5;124m'\u001b[39m] ,\n\u001b[1;32m      7\u001b[0m                     target_size\u001b[38;5;241m=\u001b[39m(\u001b[38;5;241m512\u001b[39m, \u001b[38;5;241m512\u001b[39m),\n\u001b[1;32m      8\u001b[0m                     class_mode\u001b[38;5;241m=\u001b[39m\u001b[38;5;124m'\u001b[39m\u001b[38;5;124mraw\u001b[39m\u001b[38;5;124m'\u001b[39m,\n\u001b[1;32m      9\u001b[0m                     batch_size\u001b[38;5;241m=\u001b[39mBATCH_SIZE, shuffle\u001b[38;5;241m=\u001b[39m\u001b[38;5;28;01mFalse\u001b[39;00m)\n\u001b[1;32m     11\u001b[0m valid_generator \u001b[38;5;241m=\u001b[39m datagen\u001b[38;5;241m.\u001b[39mflow_from_dataframe(X_valid,\n\u001b[1;32m     12\u001b[0m                     directory\u001b[38;5;241m=\u001b[39m\u001b[38;5;124m'\u001b[39m\u001b[38;5;124m/content/drive/MyDrive/Colab Notebooks/plant/images/\u001b[39m\u001b[38;5;124m'\u001b[39m,\n\u001b[1;32m     13\u001b[0m                     x_col\u001b[38;5;241m=\u001b[39m\u001b[38;5;124m'\u001b[39m\u001b[38;5;124mimage_id\u001b[39m\u001b[38;5;124m'\u001b[39m,\n\u001b[0;32m   (...)\u001b[0m\n\u001b[1;32m     16\u001b[0m                     class_mode\u001b[38;5;241m=\u001b[39m\u001b[38;5;124m'\u001b[39m\u001b[38;5;124mraw\u001b[39m\u001b[38;5;124m'\u001b[39m,\n\u001b[1;32m     17\u001b[0m                     batch_size\u001b[38;5;241m=\u001b[39mBATCH_SIZE, shuffle\u001b[38;5;241m=\u001b[39m\u001b[38;5;28;01mFalse\u001b[39;00m)\n",
      "\u001b[0;31mNameError\u001b[0m: name 'datagen' is not defined"
     ]
    }
   ],
   "source": [
    "BATCH_SIZE = 8\n",
    "\n",
    "train_generator = datagen.flow_from_dataframe(dataset,\n",
    "                    directory='/content/drive/MyDrive/Colab Notebooks/plant/images/',\n",
    "                    x_col='image_id',\n",
    "                    y_col=['healthy', 'multiple_diseases', 'rust', 'scab'] ,\n",
    "                    target_size=(512, 512),\n",
    "                    class_mode='raw',\n",
    "                    batch_size=BATCH_SIZE, shuffle=False)\n",
    "\n",
    "valid_generator = datagen.flow_from_dataframe(X_valid,\n",
    "                    directory='/content/drive/MyDrive/Colab Notebooks/plant/images/',\n",
    "                    x_col='image_id',\n",
    "                    y_col=['healthy', 'multiple_diseases', 'rust', 'scab'] ,\n",
    "                    target_size=(512, 512),\n",
    "                    class_mode='raw',\n",
    "                    batch_size=BATCH_SIZE, shuffle=False)"
   ]
  },
  {
   "cell_type": "markdown",
   "metadata": {
    "id": "HvSQfK4Vf7WO"
   },
   "source": [
    "## Generator Images Visualisations"
   ]
  },
  {
   "cell_type": "code",
   "execution_count": 13,
   "metadata": {
    "colab": {
     "base_uri": "https://localhost:8080/",
     "height": 910
    },
    "executionInfo": {
     "elapsed": 25035,
     "status": "ok",
     "timestamp": 1698333186902,
     "user": {
      "displayName": "Py research",
      "userId": "01140019909617408866"
     },
     "user_tz": -300
    },
    "id": "s3pZ2-zhf7WO",
    "outputId": "3f6360cb-dc9d-4568-89b6-d6a99a94d8e2"
   },
   "outputs": [
    {
     "ename": "NameError",
     "evalue": "name 'plt' is not defined",
     "output_type": "error",
     "traceback": [
      "\u001b[0;31m---------------------------------------------------------------------------\u001b[0m",
      "\u001b[0;31mNameError\u001b[0m                                 Traceback (most recent call last)",
      "Cell \u001b[0;32mIn[13], line 3\u001b[0m\n\u001b[1;32m      1\u001b[0m w\u001b[38;5;241m=\u001b[39m\u001b[38;5;241m10\u001b[39m\n\u001b[1;32m      2\u001b[0m h\u001b[38;5;241m=\u001b[39m\u001b[38;5;241m10\u001b[39m\n\u001b[0;32m----> 3\u001b[0m fig\u001b[38;5;241m=\u001b[39m\u001b[43mplt\u001b[49m\u001b[38;5;241m.\u001b[39mfigure(figsize\u001b[38;5;241m=\u001b[39m(\u001b[38;5;241m20\u001b[39m, \u001b[38;5;241m14\u001b[39m))\n\u001b[1;32m      4\u001b[0m columns \u001b[38;5;241m=\u001b[39m \u001b[38;5;241m2\u001b[39m\n\u001b[1;32m      5\u001b[0m rows \u001b[38;5;241m=\u001b[39m \u001b[38;5;241m4\u001b[39m\n",
      "\u001b[0;31mNameError\u001b[0m: name 'plt' is not defined"
     ]
    }
   ],
   "source": [
    "w=10\n",
    "h=10\n",
    "fig=plt.figure(figsize=(20, 14))\n",
    "columns = 2\n",
    "rows = 4\n",
    "plt.title('Image Class')\n",
    "plt.axis('off')\n",
    "for i in range(1, columns*rows):\n",
    "\n",
    "    img_batch, label_batch = train_generator.next()\n",
    "    fig.add_subplot(rows, columns, i)\n",
    "\n",
    "    if label_batch[i][0] == 1:\n",
    "        plt.title('Healthy')\n",
    "    elif label_batch[i][1] == 1:\n",
    "        plt.title('Multiple Disease')\n",
    "    elif label_batch[i][2] == 1:\n",
    "        plt.title('Rust')\n",
    "    else:\n",
    "        plt.title('Scab')\n",
    "\n",
    "    plt.imshow(img_batch[i])\n",
    "    plt.axis('off')\n",
    "plt.show()"
   ]
  },
  {
   "cell_type": "markdown",
   "metadata": {
    "id": "1S9tcwlff7WP"
   },
   "source": [
    "# Making The Models"
   ]
  },
  {
   "cell_type": "markdown",
   "metadata": {
    "id": "JgGw2rkzf7WP"
   },
   "source": [
    "## Xception Model"
   ]
  },
  {
   "cell_type": "code",
   "execution_count": null,
   "metadata": {
    "colab": {
     "base_uri": "https://localhost:8080/"
    },
    "executionInfo": {
     "elapsed": 3824,
     "status": "ok",
     "timestamp": 1698333190720,
     "user": {
      "displayName": "Py research",
      "userId": "01140019909617408866"
     },
     "user_tz": -300
    },
    "id": "WHj_OERIf7WP",
    "outputId": "e6cd08a5-b703-4e72-bbac-18522a37b6a7"
   },
   "outputs": [
    {
     "name": "stdout",
     "output_type": "stream",
     "text": [
      "Downloading data from https://storage.googleapis.com/tensorflow/keras-applications/xception/xception_weights_tf_dim_ordering_tf_kernels_notop.h5\n",
      "83683744/83683744 [==============================] - 0s 0us/step\n",
      "Model: \"sequential\"\n",
      "_________________________________________________________________\n",
      " Layer (type)                Output Shape              Param #   \n",
      "=================================================================\n",
      " xception (Functional)       (None, 16, 16, 2048)      20861480  \n",
      "                                                                 \n",
      " global_average_pooling2d (  (None, 2048)              0         \n",
      " GlobalAveragePooling2D)                                         \n",
      "                                                                 \n",
      " dense (Dense)               (None, 4)                 8196      \n",
      "                                                                 \n",
      "=================================================================\n",
      "Total params: 20869676 (79.61 MB)\n",
      "Trainable params: 20815148 (79.40 MB)\n",
      "Non-trainable params: 54528 (213.00 KB)\n",
      "_________________________________________________________________\n"
     ]
    }
   ],
   "source": [
    "\n",
    "xception_model = tf.keras.models.Sequential([\n",
    "  tf.keras.applications.xception.Xception(include_top=False, weights='imagenet', input_shape=(512, 512, 3)),\n",
    "   tf.keras.layers.GlobalAveragePooling2D(),\n",
    "   tf.keras.layers.Dense(4,activation='softmax')\n",
    "])\n",
    "xception_model.compile(optimizer='adam', loss='categorical_crossentropy', metrics=['accuracy'])\n",
    "xception_model.summary()"
   ]
  },
  {
   "cell_type": "code",
   "execution_count": null,
   "metadata": {
    "colab": {
     "base_uri": "https://localhost:8080/",
     "height": 369
    },
    "executionInfo": {
     "elapsed": 8,
     "status": "ok",
     "timestamp": 1698333190720,
     "user": {
      "displayName": "Py research",
      "userId": "01140019909617408866"
     },
     "user_tz": -300
    },
    "id": "SnUnFaHFf7WQ",
    "outputId": "bbc284ee-0034-4d9a-f95b-8427800be3de"
   },
   "outputs": [
    {
     "data": {
      "image/png": "[encoded data removed]",
      "text/plain": [
       "<IPython.core.display.Image object>"
      ]
     },
     "execution_count": 24,
     "metadata": {},
     "output_type": "execute_result"
    }
   ],
   "source": [
    "tf.keras.utils.plot_model(xception_model, to_file='xception_model.png')"
   ]
  },
  {
   "cell_type": "markdown",
   "metadata": {
    "id": "wrE7pyeVf7WQ"
   },
   "source": [
    "## DenseNet121"
   ]
  },
  {
   "cell_type": "code",
   "execution_count": null,
   "metadata": {
    "colab": {
     "base_uri": "https://localhost:8080/"
    },
    "executionInfo": {
     "elapsed": 5019,
     "status": "ok",
     "timestamp": 1698333195733,
     "user": {
      "displayName": "Py research",
      "userId": "01140019909617408866"
     },
     "user_tz": -300
    },
    "id": "1AiV9VJif7WQ",
    "outputId": "73d6e394-9dff-4333-9d55-5cf41ecf4e90"
   },
   "outputs": [
    {
     "name": "stdout",
     "output_type": "stream",
     "text": [
      "Downloading data from https://storage.googleapis.com/tensorflow/keras-applications/densenet/densenet121_weights_tf_dim_ordering_tf_kernels_notop.h5\n",
      "29084464/29084464 [==============================] - 0s 0us/step\n",
      "Model: \"sequential_1\"\n",
      "_________________________________________________________________\n",
      " Layer (type)                Output Shape              Param #   \n",
      "=================================================================\n",
      " densenet121 (Functional)    (None, 16, 16, 1024)      7037504   \n",
      "                                                                 \n",
      " global_average_pooling2d_1  (None, 1024)              0         \n",
      "  (GlobalAveragePooling2D)                                       \n",
      "                                                                 \n",
      " dense_1 (Dense)             (None, 4)                 4100      \n",
      "                                                                 \n",
      "=================================================================\n",
      "Total params: 7041604 (26.86 MB)\n",
      "Trainable params: 6957956 (26.54 MB)\n",
      "Non-trainable params: 83648 (326.75 KB)\n",
      "_________________________________________________________________\n"
     ]
    }
   ],
   "source": [
    "\n",
    "densenet_model = tf.keras.models.Sequential([\n",
    "    tf.keras.applications.densenet.DenseNet121(include_top=False, weights='imagenet',input_shape=(512, 512, 3)),\n",
    "   tf.keras.layers.GlobalAveragePooling2D(),\n",
    "   tf.keras.layers.Dense(4,activation='softmax')\n",
    "])\n",
    "densenet_model.compile(optimizer='adam', loss='categorical_crossentropy', metrics=['accuracy'])\n",
    "densenet_model.summary()"
   ]
  },
  {
   "cell_type": "code",
   "execution_count": null,
   "metadata": {
    "colab": {
     "base_uri": "https://localhost:8080/",
     "height": 369
    },
    "executionInfo": {
     "elapsed": 12,
     "status": "ok",
     "timestamp": 1698333195735,
     "user": {
      "displayName": "Py research",
      "userId": "01140019909617408866"
     },
     "user_tz": -300
    },
    "id": "SicFmlCqf7WR",
    "outputId": "f4533508-3d00-4a57-a0e2-e3b3ee65a656"
   },
   "outputs": [
    {
     "data": {
      "image/png": "[encoded data removed]",
      "text/plain": [
       "<IPython.core.display.Image object>"
      ]
     },
     "execution_count": 26,
     "metadata": {},
     "output_type": "execute_result"
    }
   ],
   "source": [
    "tf.keras.utils.plot_model(densenet_model, to_file='densenet_model.png')"
   ]
  },
  {
   "cell_type": "markdown",
   "metadata": {
    "id": "EnnB2c5_f7WV"
   },
   "source": [
    "# Ensembling the Models"
   ]
  },
  {
   "cell_type": "code",
   "execution_count": null,
   "metadata": {
    "colab": {
     "base_uri": "https://localhost:8080/"
    },
    "executionInfo": {
     "elapsed": 1552,
     "status": "ok",
     "timestamp": 1698333197277,
     "user": {
      "displayName": "Py research",
      "userId": "01140019909617408866"
     },
     "user_tz": -300
    },
    "id": "Wi0DJxO2f7Wa",
    "outputId": "ebd88131-bc27-4eae-c7c3-dd574cdd1ceb"
   },
   "outputs": [
    {
     "name": "stdout",
     "output_type": "stream",
     "text": [
      "Model: \"model\"\n",
      "__________________________________________________________________________________________________\n",
      " Layer (type)                Output Shape                 Param #   Connected to                  \n",
      "==================================================================================================\n",
      " input_3 (InputLayer)        [(None, 512, 512, 3)]        0         []                            \n",
      "                                                                                                  \n",
      " sequential_1 (Sequential)   (None, 4)                    7041604   ['input_3[0][0]']             \n",
      "                                                                                                  \n",
      " sequential (Sequential)     (None, 4)                    2086967   ['input_3[0][0]']             \n",
      "                                                          6                                       \n",
      "                                                                                                  \n",
      " average (Average)           (None, 4)                    0         ['sequential_1[0][0]',        \n",
      "                                                                     'sequential[0][0]']          \n",
      "                                                                                                  \n",
      "==================================================================================================\n",
      "Total params: 27911280 (106.47 MB)\n",
      "Trainable params: 27773104 (105.95 MB)\n",
      "Non-trainable params: 138176 (539.75 KB)\n",
      "__________________________________________________________________________________________________\n"
     ]
    }
   ],
   "source": [
    "inputs = tf.keras.Input(shape=(512, 512, 3))\n",
    "\n",
    "xception_output = xception_model(inputs)\n",
    "densenet_output = densenet_model(inputs)\n",
    "\n",
    "outputs = tf.keras.layers.average([densenet_output, xception_output])\n",
    "\n",
    "\n",
    "model = tf.keras.Model(inputs=inputs, outputs=outputs)\n",
    "model.compile(optimizer='adam', loss='categorical_crossentropy', metrics=['accuracy'])\n",
    "model.summary()"
   ]
  },
  {
   "cell_type": "code",
   "execution_count": null,
   "metadata": {
    "colab": {
     "base_uri": "https://localhost:8080/",
     "height": 272
    },
    "executionInfo": {
     "elapsed": 11,
     "status": "ok",
     "timestamp": 1698333197278,
     "user": {
      "displayName": "Py research",
      "userId": "01140019909617408866"
     },
     "user_tz": -300
    },
    "id": "HoOtMX8Tf7Wb",
    "outputId": "91d4303b-e599-470d-bac1-6b58391e1215"
   },
   "outputs": [
    {
     "data": {
      "image/png": "[encoded data removed]",
      "text/plain": [
       "<IPython.core.display.Image object>"
      ]
     },
     "execution_count": 28,
     "metadata": {},
     "output_type": "execute_result"
    }
   ],
   "source": [
    "tf.keras.utils.plot_model(model, to_file='model.png')"
   ]
  },
  {
   "cell_type": "markdown",
   "metadata": {
    "id": "qC-AIwWsf7Wb"
   },
   "source": [
    "## Setting the hyperparameters & Callbacks"
   ]
  },
  {
   "cell_type": "code",
   "execution_count": null,
   "metadata": {
    "colab": {
     "base_uri": "https://localhost:8080/",
     "height": 448
    },
    "executionInfo": {
     "elapsed": 787,
     "status": "ok",
     "timestamp": 1698333198055,
     "user": {
      "displayName": "Py research",
      "userId": "01140019909617408866"
     },
     "user_tz": -300
    },
    "id": "2C_Ok29Hf7Wp",
    "outputId": "4805d1ff-e13e-4a00-9152-1100ce082710"
   },
   "outputs": [
    {
     "name": "stdout",
     "output_type": "stream",
     "text": [
      "Learning rate schedule: 1e-05 to 0.0001 to 1e-05\n"
     ]
    },
    {
     "data": {
      "image/png": "[encoded data removed]",
      "text/plain": [
       "<Figure size 640x480 with 1 Axes>"
      ]
     },
     "metadata": {},
     "output_type": "display_data"
    }
   ],
   "source": [
    "LR_START = 0.00001\n",
    "LR_MAX = 0.0001\n",
    "LR_MIN = 0.00001\n",
    "LR_RAMPUP_EPOCHS = 15\n",
    "LR_SUSTAIN_EPOCHS = 3\n",
    "LR_EXP_DECAY = .8\n",
    "EPOCHS = 100\n",
    "\n",
    "def lrfn(epoch):\n",
    "    if epoch < LR_RAMPUP_EPOCHS:\n",
    "        lr = (LR_MAX - LR_START) / LR_RAMPUP_EPOCHS * epoch + LR_START\n",
    "    elif epoch < LR_RAMPUP_EPOCHS + LR_SUSTAIN_EPOCHS:\n",
    "        lr = LR_MAX\n",
    "    else:\n",
    "        lr = (LR_MAX - LR_MIN) * LR_EXP_DECAY**(epoch - LR_RAMPUP_EPOCHS - LR_SUSTAIN_EPOCHS) + LR_MIN\n",
    "    return lr\n",
    "\n",
    "lr_callback = tf.keras.callbacks.LearningRateScheduler(lrfn, verbose=True)\n",
    "\n",
    "rng = [i for i in range(EPOCHS)]\n",
    "y = [lrfn(x) for x in rng]\n",
    "plt.plot(rng, y)\n",
    "print(\"Learning rate schedule: {:.3g} to {:.3g} to {:.3g}\".format(y[0], max(y), y[-1]))"
   ]
  },
  {
   "cell_type": "code",
   "execution_count": null,
   "metadata": {
    "id": "MZI2M5zyf7Wp"
   },
   "outputs": [],
   "source": [
    "model_checkpoint = tf.keras.callbacks.ModelCheckpoint('model.h5', monitor='val_accuracy', verbose=2, save_best_only=True)\n",
    "\n",
    "# Tensordash is used for getting live model training status, like accuracy or loss, in your phone, sure to checkout here: https://github.com/CleanPegasus/TensorDash\n",
    "#histories = Tensordash(\n",
    "   # email = secret_value_0,\n",
    "   # password = secret_value_1,\n",
    "#    ModelName = \"Plant Disease Model\")"
   ]
  },
  {
   "cell_type": "markdown",
   "metadata": {
    "id": "UZVbz59Pf7Wq"
   },
   "source": [
    "# Training the Model"
   ]
  },
  {
   "cell_type": "code",
   "execution_count": null,
   "metadata": {
    "colab": {
     "base_uri": "https://localhost:8080/",
     "height": 1000
    },
    "executionInfo": {
     "elapsed": 14319067,
     "status": "error",
     "timestamp": 1698347517113,
     "user": {
      "displayName": "Py research",
      "userId": "01140019909617408866"
     },
     "user_tz": -300
    },
    "id": "co9tlAGWf7Wq",
    "outputId": "78a64714-2cd9-402e-fbc0-0255f68fed72"
   },
   "outputs": [
    {
     "name": "stderr",
     "output_type": "stream",
     "text": [
      "<ipython-input-31-8cac81a2f163>:2: UserWarning: `Model.fit_generator` is deprecated and will be removed in a future version. Please use `Model.fit`, which supports generators.\n",
      "  model_history = model.fit_generator(train_generator, epochs=EPOCHS, validation_data=valid_generator, callbacks=[model_checkpoint,lr_callback])\n"
     ]
    },
    {
     "name": "stdout",
     "output_type": "stream",
     "text": [
      "\n",
      "Epoch 1: LearningRateScheduler setting learning rate to 1e-05.\n",
      "Epoch 1/100\n",
      "228/228 [==============================] - ETA: 0s - loss: 1.0301 - accuracy: 0.6398\n",
      "Epoch 1: val_accuracy improved from -inf to 0.83696, saving model to model.h5\n"
     ]
    },
    {
     "name": "stderr",
     "output_type": "stream",
     "text": [
      "/usr/local/lib/python3.10/dist-packages/keras/src/engine/training.py:3079: UserWarning: You are saving your model as an HDF5 file via `model.save()`. This file format is considered legacy. We recommend using instead the native Keras format, e.g. `model.save('my_model.keras')`.\n",
      "  saving_api.save_model(\n"
     ]
    },
    {
     "name": "stdout",
     "output_type": "stream",
     "text": [
      "\b\b\b\b\b\b\b\b\b\b\b\b\b\b\b\b\b\b\b\b\b\b\b\b\b\b\b\b\b\b\b\b\b\b\b\b\b\b\b\b\b\b\b\b\b\b\b\b\b\b\b\b\b\b\b\b\b\b\b\b\b\b\b\b\b\b\b\b\b\b\b\b\b\b\b\b\b\b\b\b\b\b\b\b\r",
      "228/228 [==============================] - 1103s 4s/step - loss: 1.0301 - accuracy: 0.6398 - val_loss: 0.5921 - val_accuracy: 0.8370 - lr: 1.0000e-05\n",
      "\n",
      "Epoch 2: LearningRateScheduler setting learning rate to 1.6000000000000003e-05.\n",
      "Epoch 2/100\n",
      "228/228 [==============================] - ETA: 0s - loss: 0.4619 - accuracy: 0.8677\n",
      "Epoch 2: val_accuracy improved from 0.83696 to 0.94565, saving model to model.h5\n",
      "228/228 [==============================] - 252s 1s/step - loss: 0.4619 - accuracy: 0.8677 - val_loss: 0.2034 - val_accuracy: 0.9457 - lr: 1.6000e-05\n",
      "\n",
      "Epoch 3: LearningRateScheduler setting learning rate to 2.2e-05.\n",
      "Epoch 3/100\n",
      "228/228 [==============================] - ETA: 0s - loss: 0.2918 - accuracy: 0.9094\n",
      "Epoch 3: val_accuracy improved from 0.94565 to 0.96739, saving model to model.h5\n",
      "228/228 [==============================] - 254s 1s/step - loss: 0.2918 - accuracy: 0.9094 - val_loss: 0.1355 - val_accuracy: 0.9674 - lr: 2.2000e-05\n",
      "\n",
      "Epoch 4: LearningRateScheduler setting learning rate to 2.8000000000000003e-05.\n",
      "Epoch 4/100\n",
      "228/228 [==============================] - ETA: 0s - loss: 0.2271 - accuracy: 0.9308\n",
      "Epoch 4: val_accuracy did not improve from 0.96739\n",
      "228/228 [==============================] - 253s 1s/step - loss: 0.2271 - accuracy: 0.9308 - val_loss: 0.0930 - val_accuracy: 0.9674 - lr: 2.8000e-05\n",
      "\n",
      "Epoch 5: LearningRateScheduler setting learning rate to 3.4e-05.\n",
      "Epoch 5/100\n",
      "228/228 [==============================] - ETA: 0s - loss: 0.1733 - accuracy: 0.9500\n",
      "Epoch 5: val_accuracy did not improve from 0.96739\n",
      "228/228 [==============================] - 252s 1s/step - loss: 0.1733 - accuracy: 0.9500 - val_loss: 0.0867 - val_accuracy: 0.9674 - lr: 3.4000e-05\n",
      "\n",
      "Epoch 6: LearningRateScheduler setting learning rate to 4e-05.\n",
      "Epoch 6/100\n",
      "228/228 [==============================] - ETA: 0s - loss: 0.1358 - accuracy: 0.9572\n",
      "Epoch 6: val_accuracy did not improve from 0.96739\n",
      "228/228 [==============================] - 254s 1s/step - loss: 0.1358 - accuracy: 0.9572 - val_loss: 0.0945 - val_accuracy: 0.9674 - lr: 4.0000e-05\n",
      "\n",
      "Epoch 7: LearningRateScheduler setting learning rate to 4.6e-05.\n",
      "Epoch 7/100\n",
      "228/228 [==============================] - ETA: 0s - loss: 0.1119 - accuracy: 0.9671\n",
      "Epoch 7: val_accuracy improved from 0.96739 to 0.97826, saving model to model.h5\n",
      "228/228 [==============================] - 254s 1s/step - loss: 0.1119 - accuracy: 0.9671 - val_loss: 0.0718 - val_accuracy: 0.9783 - lr: 4.6000e-05\n",
      "\n",
      "Epoch 8: LearningRateScheduler setting learning rate to 5.2000000000000004e-05.\n",
      "Epoch 8/100\n",
      "228/228 [==============================] - ETA: 0s - loss: 0.0893 - accuracy: 0.9758\n",
      "Epoch 8: val_accuracy improved from 0.97826 to 0.98913, saving model to model.h5\n",
      "228/228 [==============================] - 254s 1s/step - loss: 0.0893 - accuracy: 0.9758 - val_loss: 0.0558 - val_accuracy: 0.9891 - lr: 5.2000e-05\n",
      "\n",
      "Epoch 9: LearningRateScheduler setting learning rate to 5.8e-05.\n",
      "Epoch 9/100\n",
      "228/228 [==============================] - ETA: 0s - loss: 0.0724 - accuracy: 0.9819\n",
      "Epoch 9: val_accuracy did not improve from 0.98913\n",
      "228/228 [==============================] - 250s 1s/step - loss: 0.0724 - accuracy: 0.9819 - val_loss: 0.0374 - val_accuracy: 0.9891 - lr: 5.8000e-05\n",
      "\n",
      "Epoch 10: LearningRateScheduler setting learning rate to 6.4e-05.\n",
      "Epoch 10/100\n",
      "228/228 [==============================] - ETA: 0s - loss: 0.0722 - accuracy: 0.9791\n",
      "Epoch 10: val_accuracy did not improve from 0.98913\n",
      "228/228 [==============================] - 252s 1s/step - loss: 0.0722 - accuracy: 0.9791 - val_loss: 0.0466 - val_accuracy: 0.9783 - lr: 6.4000e-05\n",
      "\n",
      "Epoch 11: LearningRateScheduler setting learning rate to 7.000000000000001e-05.\n",
      "Epoch 11/100\n",
      "228/228 [==============================] - ETA: 0s - loss: 0.0750 - accuracy: 0.9769\n",
      "Epoch 11: val_accuracy did not improve from 0.98913\n",
      "228/228 [==============================] - 248s 1s/step - loss: 0.0750 - accuracy: 0.9769 - val_loss: 0.0645 - val_accuracy: 0.9674 - lr: 7.0000e-05\n",
      "\n",
      "Epoch 12: LearningRateScheduler setting learning rate to 7.6e-05.\n",
      "Epoch 12/100\n",
      "228/228 [==============================] - ETA: 0s - loss: 0.0688 - accuracy: 0.9824\n",
      "Epoch 12: val_accuracy did not improve from 0.98913\n",
      "228/228 [==============================] - 250s 1s/step - loss: 0.0688 - accuracy: 0.9824 - val_loss: 0.0664 - val_accuracy: 0.9891 - lr: 7.6000e-05\n",
      "\n",
      "Epoch 13: LearningRateScheduler setting learning rate to 8.2e-05.\n",
      "Epoch 13/100\n",
      "228/228 [==============================] - ETA: 0s - loss: 0.0478 - accuracy: 0.9879\n",
      "Epoch 13: val_accuracy improved from 0.98913 to 1.00000, saving model to model.h5\n",
      "228/228 [==============================] - 254s 1s/step - loss: 0.0478 - accuracy: 0.9879 - val_loss: 0.0480 - val_accuracy: 1.0000 - lr: 8.2000e-05\n",
      "\n",
      "Epoch 14: LearningRateScheduler setting learning rate to 8.8e-05.\n",
      "Epoch 14/100\n",
      "228/228 [==============================] - ETA: 0s - loss: 0.0495 - accuracy: 0.9879\n",
      "Epoch 14: val_accuracy did not improve from 1.00000\n",
      "228/228 [==============================] - 249s 1s/step - loss: 0.0495 - accuracy: 0.9879 - val_loss: 0.0467 - val_accuracy: 0.9891 - lr: 8.8000e-05\n",
      "\n",
      "Epoch 15: LearningRateScheduler setting learning rate to 9.400000000000001e-05.\n",
      "Epoch 15/100\n",
      "228/228 [==============================] - ETA: 0s - loss: 0.0484 - accuracy: 0.9885\n",
      "Epoch 15: val_accuracy did not improve from 1.00000\n",
      "228/228 [==============================] - 250s 1s/step - loss: 0.0484 - accuracy: 0.9885 - val_loss: 0.0758 - val_accuracy: 0.9783 - lr: 9.4000e-05\n",
      "\n",
      "Epoch 16: LearningRateScheduler setting learning rate to 0.0001.\n",
      "Epoch 16/100\n",
      "228/228 [==============================] - ETA: 0s - loss: 0.0708 - accuracy: 0.9808\n",
      "Epoch 16: val_accuracy did not improve from 1.00000\n",
      "228/228 [==============================] - 253s 1s/step - loss: 0.0708 - accuracy: 0.9808 - val_loss: 0.0525 - val_accuracy: 0.9783 - lr: 1.0000e-04\n",
      "\n",
      "Epoch 17: LearningRateScheduler setting learning rate to 0.0001.\n",
      "Epoch 17/100\n",
      "228/228 [==============================] - ETA: 0s - loss: 0.0602 - accuracy: 0.9852\n",
      "Epoch 17: val_accuracy did not improve from 1.00000\n",
      "228/228 [==============================] - 250s 1s/step - loss: 0.0602 - accuracy: 0.9852 - val_loss: 0.0492 - val_accuracy: 0.9783 - lr: 1.0000e-04\n",
      "\n",
      "Epoch 18: LearningRateScheduler setting learning rate to 0.0001.\n",
      "Epoch 18/100\n",
      "228/228 [==============================] - ETA: 0s - loss: 0.0506 - accuracy: 0.9857\n",
      "Epoch 18: val_accuracy did not improve from 1.00000\n",
      "228/228 [==============================] - 256s 1s/step - loss: 0.0506 - accuracy: 0.9857 - val_loss: 0.0898 - val_accuracy: 0.9674 - lr: 1.0000e-04\n",
      "\n",
      "Epoch 19: LearningRateScheduler setting learning rate to 0.0001.\n",
      "Epoch 19/100\n",
      "228/228 [==============================] - ETA: 0s - loss: 0.0430 - accuracy: 0.9879\n",
      "Epoch 19: val_accuracy did not improve from 1.00000\n",
      "228/228 [==============================] - 250s 1s/step - loss: 0.0430 - accuracy: 0.9879 - val_loss: 0.0695 - val_accuracy: 0.9891 - lr: 1.0000e-04\n",
      "\n",
      "Epoch 20: LearningRateScheduler setting learning rate to 8.2e-05.\n",
      "Epoch 20/100\n",
      "228/228 [==============================] - ETA: 0s - loss: 0.0302 - accuracy: 0.9885\n",
      "Epoch 20: val_accuracy did not improve from 1.00000\n",
      "228/228 [==============================] - 250s 1s/step - loss: 0.0302 - accuracy: 0.9885 - val_loss: 0.0220 - val_accuracy: 1.0000 - lr: 8.2000e-05\n",
      "\n",
      "Epoch 21: LearningRateScheduler setting learning rate to 6.760000000000002e-05.\n",
      "Epoch 21/100\n",
      "228/228 [==============================] - ETA: 0s - loss: 0.0226 - accuracy: 0.9929\n",
      "Epoch 21: val_accuracy did not improve from 1.00000\n",
      "228/228 [==============================] - 247s 1s/step - loss: 0.0226 - accuracy: 0.9929 - val_loss: 0.0239 - val_accuracy: 0.9783 - lr: 6.7600e-05\n",
      "\n",
      "Epoch 22: LearningRateScheduler setting learning rate to 5.608000000000001e-05.\n",
      "Epoch 22/100\n",
      "228/228 [==============================] - ETA: 0s - loss: 0.0167 - accuracy: 0.9940\n",
      "Epoch 22: val_accuracy did not improve from 1.00000\n",
      "228/228 [==============================] - 252s 1s/step - loss: 0.0167 - accuracy: 0.9940 - val_loss: 0.0563 - val_accuracy: 0.9783 - lr: 5.6080e-05\n",
      "\n",
      "Epoch 23: LearningRateScheduler setting learning rate to 4.686400000000001e-05.\n",
      "Epoch 23/100\n",
      "228/228 [==============================] - ETA: 0s - loss: 0.0184 - accuracy: 0.9923\n",
      "Epoch 23: val_accuracy did not improve from 1.00000\n",
      "228/228 [==============================] - 251s 1s/step - loss: 0.0184 - accuracy: 0.9923 - val_loss: 0.0112 - val_accuracy: 1.0000 - lr: 4.6864e-05\n",
      "\n",
      "Epoch 24: LearningRateScheduler setting learning rate to 3.949120000000001e-05.\n",
      "Epoch 24/100\n",
      "228/228 [==============================] - ETA: 0s - loss: 0.0115 - accuracy: 0.9951\n",
      "Epoch 24: val_accuracy did not improve from 1.00000\n",
      "228/228 [==============================] - 249s 1s/step - loss: 0.0115 - accuracy: 0.9951 - val_loss: 0.0129 - val_accuracy: 0.9891 - lr: 3.9491e-05\n",
      "\n",
      "Epoch 25: LearningRateScheduler setting learning rate to 3.359296000000001e-05.\n",
      "Epoch 25/100\n",
      "228/228 [==============================] - ETA: 0s - loss: 0.0100 - accuracy: 0.9940\n",
      "Epoch 25: val_accuracy did not improve from 1.00000\n",
      "228/228 [==============================] - 248s 1s/step - loss: 0.0100 - accuracy: 0.9940 - val_loss: 0.0035 - val_accuracy: 1.0000 - lr: 3.3593e-05\n",
      "\n",
      "Epoch 26: LearningRateScheduler setting learning rate to 2.887436800000001e-05.\n",
      "Epoch 26/100\n",
      "228/228 [==============================] - ETA: 0s - loss: 0.0099 - accuracy: 0.9962\n",
      "Epoch 26: val_accuracy did not improve from 1.00000\n",
      "228/228 [==============================] - 251s 1s/step - loss: 0.0099 - accuracy: 0.9962 - val_loss: 0.0182 - val_accuracy: 0.9891 - lr: 2.8874e-05\n",
      "\n",
      "Epoch 27: LearningRateScheduler setting learning rate to 2.509949440000001e-05.\n",
      "Epoch 27/100\n",
      "228/228 [==============================] - ETA: 0s - loss: 0.0092 - accuracy: 0.9967\n",
      "Epoch 27: val_accuracy did not improve from 1.00000\n",
      "228/228 [==============================] - 248s 1s/step - loss: 0.0092 - accuracy: 0.9967 - val_loss: 0.0054 - val_accuracy: 1.0000 - lr: 2.5099e-05\n",
      "\n",
      "Epoch 28: LearningRateScheduler setting learning rate to 2.207959552000001e-05.\n",
      "Epoch 28/100\n",
      "228/228 [==============================] - ETA: 0s - loss: 0.0092 - accuracy: 0.9945\n",
      "Epoch 28: val_accuracy did not improve from 1.00000\n",
      "228/228 [==============================] - 251s 1s/step - loss: 0.0092 - accuracy: 0.9945 - val_loss: 0.0020 - val_accuracy: 1.0000 - lr: 2.2080e-05\n",
      "\n",
      "Epoch 29: LearningRateScheduler setting learning rate to 1.9663676416000005e-05.\n",
      "Epoch 29/100\n",
      "228/228 [==============================] - ETA: 0s - loss: 0.0086 - accuracy: 0.9956\n",
      "Epoch 29: val_accuracy did not improve from 1.00000\n",
      "228/228 [==============================] - 255s 1s/step - loss: 0.0086 - accuracy: 0.9956 - val_loss: 0.0075 - val_accuracy: 1.0000 - lr: 1.9664e-05\n",
      "\n",
      "Epoch 30: LearningRateScheduler setting learning rate to 1.7730941132800006e-05.\n",
      "Epoch 30/100\n",
      "228/228 [==============================] - ETA: 0s - loss: 0.0072 - accuracy: 0.9967\n",
      "Epoch 30: val_accuracy did not improve from 1.00000\n",
      "228/228 [==============================] - 258s 1s/step - loss: 0.0072 - accuracy: 0.9967 - val_loss: 0.0245 - val_accuracy: 0.9783 - lr: 1.7731e-05\n",
      "\n",
      "Epoch 31: LearningRateScheduler setting learning rate to 1.6184752906240005e-05.\n",
      "Epoch 31/100\n",
      "228/228 [==============================] - ETA: 0s - loss: 0.0070 - accuracy: 0.9951\n",
      "Epoch 31: val_accuracy did not improve from 1.00000\n",
      "228/228 [==============================] - 258s 1s/step - loss: 0.0070 - accuracy: 0.9951 - val_loss: 0.0051 - val_accuracy: 1.0000 - lr: 1.6185e-05\n",
      "\n",
      "Epoch 32: LearningRateScheduler setting learning rate to 1.4947802324992005e-05.\n",
      "Epoch 32/100\n",
      "228/228 [==============================] - ETA: 0s - loss: 0.0102 - accuracy: 0.9956\n",
      "Epoch 32: val_accuracy did not improve from 1.00000\n",
      "228/228 [==============================] - 258s 1s/step - loss: 0.0102 - accuracy: 0.9956 - val_loss: 6.0672e-04 - val_accuracy: 1.0000 - lr: 1.4948e-05\n",
      "\n",
      "Epoch 33: LearningRateScheduler setting learning rate to 1.3958241859993605e-05.\n",
      "Epoch 33/100\n",
      "228/228 [==============================] - ETA: 0s - loss: 0.0115 - accuracy: 0.9951\n",
      "Epoch 33: val_accuracy did not improve from 1.00000\n",
      "228/228 [==============================] - 248s 1s/step - loss: 0.0115 - accuracy: 0.9951 - val_loss: 0.0068 - val_accuracy: 1.0000 - lr: 1.3958e-05\n",
      "\n",
      "Epoch 34: LearningRateScheduler setting learning rate to 1.3166593487994884e-05.\n",
      "Epoch 34/100\n",
      "228/228 [==============================] - ETA: 0s - loss: 0.0083 - accuracy: 0.9962\n",
      "Epoch 34: val_accuracy did not improve from 1.00000\n",
      "228/228 [==============================] - 249s 1s/step - loss: 0.0083 - accuracy: 0.9962 - val_loss: 0.0090 - val_accuracy: 1.0000 - lr: 1.3167e-05\n",
      "\n",
      "Epoch 35: LearningRateScheduler setting learning rate to 1.2533274790395908e-05.\n",
      "Epoch 35/100\n",
      "228/228 [==============================] - ETA: 0s - loss: 0.0077 - accuracy: 0.9962\n",
      "Epoch 35: val_accuracy did not improve from 1.00000\n",
      "228/228 [==============================] - 254s 1s/step - loss: 0.0077 - accuracy: 0.9962 - val_loss: 0.0017 - val_accuracy: 1.0000 - lr: 1.2533e-05\n",
      "\n",
      "Epoch 36: LearningRateScheduler setting learning rate to 1.2026619832316725e-05.\n",
      "Epoch 36/100\n",
      "228/228 [==============================] - ETA: 0s - loss: 0.0079 - accuracy: 0.9967\n",
      "Epoch 36: val_accuracy did not improve from 1.00000\n",
      "228/228 [==============================] - 252s 1s/step - loss: 0.0079 - accuracy: 0.9967 - val_loss: 7.7974e-04 - val_accuracy: 1.0000 - lr: 1.2027e-05\n",
      "\n",
      "Epoch 37: LearningRateScheduler setting learning rate to 1.1621295865853382e-05.\n",
      "Epoch 37/100\n",
      "228/228 [==============================] - ETA: 0s - loss: 0.0072 - accuracy: 0.9967\n",
      "Epoch 37: val_accuracy did not improve from 1.00000\n",
      "228/228 [==============================] - 249s 1s/step - loss: 0.0072 - accuracy: 0.9967 - val_loss: 0.0017 - val_accuracy: 1.0000 - lr: 1.1621e-05\n",
      "\n",
      "Epoch 38: LearningRateScheduler setting learning rate to 1.1297036692682704e-05.\n",
      "Epoch 38/100\n",
      "228/228 [==============================] - ETA: 0s - loss: 0.0070 - accuracy: 0.9967\n",
      "Epoch 38: val_accuracy did not improve from 1.00000\n",
      "228/228 [==============================] - 256s 1s/step - loss: 0.0070 - accuracy: 0.9967 - val_loss: 0.0098 - val_accuracy: 1.0000 - lr: 1.1297e-05\n",
      "\n",
      "Epoch 39: LearningRateScheduler setting learning rate to 1.1037629354146164e-05.\n",
      "Epoch 39/100\n",
      "228/228 [==============================] - ETA: 0s - loss: 0.0072 - accuracy: 0.9973\n",
      "Epoch 39: val_accuracy did not improve from 1.00000\n",
      "228/228 [==============================] - 248s 1s/step - loss: 0.0072 - accuracy: 0.9973 - val_loss: 7.0784e-04 - val_accuracy: 1.0000 - lr: 1.1038e-05\n",
      "\n",
      "Epoch 40: LearningRateScheduler setting learning rate to 1.0830103483316932e-05.\n",
      "Epoch 40/100\n",
      "228/228 [==============================] - ETA: 0s - loss: 0.0070 - accuracy: 0.9984\n",
      "Epoch 40: val_accuracy did not improve from 1.00000\n",
      "228/228 [==============================] - 247s 1s/step - loss: 0.0070 - accuracy: 0.9984 - val_loss: 0.0024 - val_accuracy: 1.0000 - lr: 1.0830e-05\n",
      "\n",
      "Epoch 41: LearningRateScheduler setting learning rate to 1.0664082786653546e-05.\n",
      "Epoch 41/100\n",
      "228/228 [==============================] - ETA: 0s - loss: 0.0069 - accuracy: 0.9973\n",
      "Epoch 41: val_accuracy did not improve from 1.00000\n",
      "228/228 [==============================] - 253s 1s/step - loss: 0.0069 - accuracy: 0.9973 - val_loss: 0.0026 - val_accuracy: 1.0000 - lr: 1.0664e-05\n",
      "\n",
      "Epoch 42: LearningRateScheduler setting learning rate to 1.0531266229322836e-05.\n",
      "Epoch 42/100\n",
      "228/228 [==============================] - ETA: 0s - loss: 0.0094 - accuracy: 0.9962\n",
      "Epoch 42: val_accuracy did not improve from 1.00000\n",
      "228/228 [==============================] - 259s 1s/step - loss: 0.0094 - accuracy: 0.9962 - val_loss: 0.0034 - val_accuracy: 1.0000 - lr: 1.0531e-05\n",
      "\n",
      "Epoch 43: LearningRateScheduler setting learning rate to 1.042501298345827e-05.\n",
      "Epoch 43/100\n",
      "228/228 [==============================] - ETA: 0s - loss: 0.0073 - accuracy: 0.9967\n",
      "Epoch 43: val_accuracy did not improve from 1.00000\n",
      "228/228 [==============================] - 259s 1s/step - loss: 0.0073 - accuracy: 0.9967 - val_loss: 0.0062 - val_accuracy: 1.0000 - lr: 1.0425e-05\n",
      "\n",
      "Epoch 44: LearningRateScheduler setting learning rate to 1.0340010386766616e-05.\n",
      "Epoch 44/100\n",
      "228/228 [==============================] - ETA: 0s - loss: 0.0063 - accuracy: 0.9962\n",
      "Epoch 44: val_accuracy did not improve from 1.00000\n",
      "228/228 [==============================] - 251s 1s/step - loss: 0.0063 - accuracy: 0.9962 - val_loss: 0.0062 - val_accuracy: 1.0000 - lr: 1.0340e-05\n",
      "\n",
      "Epoch 45: LearningRateScheduler setting learning rate to 1.0272008309413293e-05.\n",
      "Epoch 45/100\n",
      "228/228 [==============================] - ETA: 0s - loss: 0.0065 - accuracy: 0.9973\n",
      "Epoch 45: val_accuracy did not improve from 1.00000\n",
      "228/228 [==============================] - 254s 1s/step - loss: 0.0065 - accuracy: 0.9973 - val_loss: 0.0054 - val_accuracy: 1.0000 - lr: 1.0272e-05\n",
      "\n",
      "Epoch 46: LearningRateScheduler setting learning rate to 1.0217606647530635e-05.\n",
      "Epoch 46/100\n",
      "228/228 [==============================] - ETA: 0s - loss: 0.0078 - accuracy: 0.9951\n",
      "Epoch 46: val_accuracy did not improve from 1.00000\n",
      "228/228 [==============================] - 251s 1s/step - loss: 0.0078 - accuracy: 0.9951 - val_loss: 0.0054 - val_accuracy: 1.0000 - lr: 1.0218e-05\n",
      "\n",
      "Epoch 47: LearningRateScheduler setting learning rate to 1.0174085318024507e-05.\n",
      "Epoch 47/100\n",
      "228/228 [==============================] - ETA: 0s - loss: 0.0063 - accuracy: 0.9962\n",
      "Epoch 47: val_accuracy did not improve from 1.00000\n",
      "228/228 [==============================] - 249s 1s/step - loss: 0.0063 - accuracy: 0.9962 - val_loss: 0.0069 - val_accuracy: 1.0000 - lr: 1.0174e-05\n",
      "\n",
      "Epoch 48: LearningRateScheduler setting learning rate to 1.0139268254419606e-05.\n",
      "Epoch 48/100\n",
      "228/228 [==============================] - ETA: 0s - loss: 0.0079 - accuracy: 0.9956\n",
      "Epoch 48: val_accuracy did not improve from 1.00000\n",
      "228/228 [==============================] - 249s 1s/step - loss: 0.0079 - accuracy: 0.9956 - val_loss: 0.0042 - val_accuracy: 1.0000 - lr: 1.0139e-05\n",
      "\n",
      "Epoch 49: LearningRateScheduler setting learning rate to 1.0111414603535686e-05.\n",
      "Epoch 49/100\n",
      "228/228 [==============================] - ETA: 0s - loss: 0.0063 - accuracy: 0.9962\n",
      "Epoch 49: val_accuracy did not improve from 1.00000\n",
      "228/228 [==============================] - 249s 1s/step - loss: 0.0063 - accuracy: 0.9962 - val_loss: 0.0109 - val_accuracy: 1.0000 - lr: 1.0111e-05\n",
      "\n",
      "Epoch 50: LearningRateScheduler setting learning rate to 1.0089131682828549e-05.\n",
      "Epoch 50/100\n",
      "228/228 [==============================] - ETA: 0s - loss: 0.0062 - accuracy: 0.9973\n",
      "Epoch 50: val_accuracy did not improve from 1.00000\n",
      "228/228 [==============================] - 247s 1s/step - loss: 0.0062 - accuracy: 0.9973 - val_loss: 4.2102e-04 - val_accuracy: 1.0000 - lr: 1.0089e-05\n",
      "\n",
      "Epoch 51: LearningRateScheduler setting learning rate to 1.0071305346262839e-05.\n",
      "Epoch 51/100\n",
      "228/228 [==============================] - ETA: 0s - loss: 0.0088 - accuracy: 0.9956\n",
      "Epoch 51: val_accuracy did not improve from 1.00000\n",
      "228/228 [==============================] - 251s 1s/step - loss: 0.0088 - accuracy: 0.9956 - val_loss: 0.0065 - val_accuracy: 1.0000 - lr: 1.0071e-05\n",
      "\n",
      "Epoch 52: LearningRateScheduler setting learning rate to 1.0057044277010271e-05.\n",
      "Epoch 52/100\n",
      "228/228 [==============================] - ETA: 0s - loss: 0.0069 - accuracy: 0.9962\n",
      "Epoch 52: val_accuracy did not improve from 1.00000\n",
      "228/228 [==============================] - 250s 1s/step - loss: 0.0069 - accuracy: 0.9962 - val_loss: 0.0016 - val_accuracy: 1.0000 - lr: 1.0057e-05\n",
      "\n",
      "Epoch 53: LearningRateScheduler setting learning rate to 1.0045635421608217e-05.\n",
      "Epoch 53/100\n",
      "204/228 [=========================>....] - ETA: 25s - loss: 0.0048 - accuracy: 0.9963"
     ]
    },
    {
     "ename": "UnknownError",
     "evalue": "ignored",
     "output_type": "error",
     "traceback": [
      "\u001b[0;31m---------------------------------------------------------------------------\u001b[0m",
      "\u001b[0;31mUnknownError\u001b[0m                              Traceback (most recent call last)",
      "\u001b[0;32m<ipython-input-31-8cac81a2f163>\u001b[0m in \u001b[0;36m<cell line: 2>\u001b[0;34m()\u001b[0m\n\u001b[1;32m      1\u001b[0m \u001b[0;31m# Model training\u001b[0m\u001b[0;34m\u001b[0m\u001b[0;34m\u001b[0m\u001b[0m\n\u001b[0;32m----> 2\u001b[0;31m \u001b[0mmodel_history\u001b[0m \u001b[0;34m=\u001b[0m \u001b[0mmodel\u001b[0m\u001b[0;34m.\u001b[0m\u001b[0mfit_generator\u001b[0m\u001b[0;34m(\u001b[0m\u001b[0mtrain_generator\u001b[0m\u001b[0;34m,\u001b[0m \u001b[0mepochs\u001b[0m\u001b[0;34m=\u001b[0m\u001b[0mEPOCHS\u001b[0m\u001b[0;34m,\u001b[0m \u001b[0mvalidation_data\u001b[0m\u001b[0;34m=\u001b[0m\u001b[0mvalid_generator\u001b[0m\u001b[0;34m,\u001b[0m \u001b[0mcallbacks\u001b[0m\u001b[0;34m=\u001b[0m\u001b[0;34m[\u001b[0m\u001b[0mmodel_checkpoint\u001b[0m\u001b[0;34m,\u001b[0m\u001b[0mlr_callback\u001b[0m\u001b[0;34m]\u001b[0m\u001b[0;34m)\u001b[0m\u001b[0;34m\u001b[0m\u001b[0;34m\u001b[0m\u001b[0m\n\u001b[0m",
      "\u001b[0;32m/usr/local/lib/python3.10/dist-packages/keras/src/engine/training.py\u001b[0m in \u001b[0;36mfit_generator\u001b[0;34m(self, generator, steps_per_epoch, epochs, verbose, callbacks, validation_data, validation_steps, validation_freq, class_weight, max_queue_size, workers, use_multiprocessing, shuffle, initial_epoch)\u001b[0m\n\u001b[1;32m   2887\u001b[0m             \u001b[0mstacklevel\u001b[0m\u001b[0;34m=\u001b[0m\u001b[0;36m2\u001b[0m\u001b[0;34m,\u001b[0m\u001b[0;34m\u001b[0m\u001b[0;34m\u001b[0m\u001b[0m\n\u001b[1;32m   2888\u001b[0m         )\n\u001b[0;32m-> 2889\u001b[0;31m         return self.fit(\n\u001b[0m\u001b[1;32m   2890\u001b[0m             \u001b[0mgenerator\u001b[0m\u001b[0;34m,\u001b[0m\u001b[0;34m\u001b[0m\u001b[0;34m\u001b[0m\u001b[0m\n\u001b[1;32m   2891\u001b[0m             \u001b[0msteps_per_epoch\u001b[0m\u001b[0;34m=\u001b[0m\u001b[0msteps_per_epoch\u001b[0m\u001b[0;34m,\u001b[0m\u001b[0;34m\u001b[0m\u001b[0;34m\u001b[0m\u001b[0m\n",
      "\u001b[0;32m/usr/local/lib/python3.10/dist-packages/keras/src/utils/traceback_utils.py\u001b[0m in \u001b[0;36merror_handler\u001b[0;34m(*args, **kwargs)\u001b[0m\n\u001b[1;32m     68\u001b[0m             \u001b[0;31m# To get the full stack trace, call:\u001b[0m\u001b[0;34m\u001b[0m\u001b[0;34m\u001b[0m\u001b[0m\n\u001b[1;32m     69\u001b[0m             \u001b[0;31m# `tf.debugging.disable_traceback_filtering()`\u001b[0m\u001b[0;34m\u001b[0m\u001b[0;34m\u001b[0m\u001b[0m\n\u001b[0;32m---> 70\u001b[0;31m             \u001b[0;32mraise\u001b[0m \u001b[0me\u001b[0m\u001b[0;34m.\u001b[0m\u001b[0mwith_traceback\u001b[0m\u001b[0;34m(\u001b[0m\u001b[0mfiltered_tb\u001b[0m\u001b[0;34m)\u001b[0m \u001b[0;32mfrom\u001b[0m \u001b[0;32mNone\u001b[0m\u001b[0;34m\u001b[0m\u001b[0;34m\u001b[0m\u001b[0m\n\u001b[0m\u001b[1;32m     71\u001b[0m         \u001b[0;32mfinally\u001b[0m\u001b[0;34m:\u001b[0m\u001b[0;34m\u001b[0m\u001b[0;34m\u001b[0m\u001b[0m\n\u001b[1;32m     72\u001b[0m             \u001b[0;32mdel\u001b[0m \u001b[0mfiltered_tb\u001b[0m\u001b[0;34m\u001b[0m\u001b[0;34m\u001b[0m\u001b[0m\n",
      "\u001b[0;32m/usr/local/lib/python3.10/dist-packages/tensorflow/python/eager/execute.py\u001b[0m in \u001b[0;36mquick_execute\u001b[0;34m(op_name, num_outputs, inputs, attrs, ctx, name)\u001b[0m\n\u001b[1;32m     58\u001b[0m         \u001b[0;32mfor\u001b[0m \u001b[0mt\u001b[0m \u001b[0;32min\u001b[0m \u001b[0minputs\u001b[0m\u001b[0;34m\u001b[0m\u001b[0;34m\u001b[0m\u001b[0m\n\u001b[1;32m     59\u001b[0m     ]\n\u001b[0;32m---> 60\u001b[0;31m     tensors = pywrap_tfe.TFE_Py_Execute(ctx._handle, device_name, op_name,\n\u001b[0m\u001b[1;32m     61\u001b[0m                                         inputs, attrs, num_outputs)\n\u001b[1;32m     62\u001b[0m   \u001b[0;32mexcept\u001b[0m \u001b[0mcore\u001b[0m\u001b[0;34m.\u001b[0m\u001b[0m_NotOkStatusException\u001b[0m \u001b[0;32mas\u001b[0m \u001b[0me\u001b[0m\u001b[0;34m:\u001b[0m\u001b[0;34m\u001b[0m\u001b[0;34m\u001b[0m\u001b[0m\n",
      "\u001b[0;31mUnknownError\u001b[0m: Graph execution error:\n\nDetected at node PyFunc defined at (most recent call last):\n<stack traces unavailable>\n2 root error(s) found.\n  (0) UNKNOWN:  FileNotFoundError: [Errno 2] No such file or directory: '/content/drive/MyDrive/Colab Notebooks/plant/images/Train_991.jpg'\nTraceback (most recent call last):\n\n  File \"/usr/local/lib/python3.10/dist-packages/tensorflow/python/ops/script_ops.py\", line 270, in __call__\n    ret = func(*args)\n\n  File \"/usr/local/lib/python3.10/dist-packages/tensorflow/python/autograph/impl/api.py\", line 643, in wrapper\n    return func(*args, **kwargs)\n\n  File \"/usr/local/lib/python3.10/dist-packages/tensorflow/python/data/ops/from_generator_op.py\", line 198, in generator_py_func\n    values = next(generator_state.get_iterator(iterator_id))\n\n  File \"/usr/local/lib/python3.10/dist-packages/keras/src/engine/data_adapter.py\", line 917, in wrapped_generator\n    for data in generator_fn():\n\n  File \"/usr/local/lib/python3.10/dist-packages/keras/src/engine/data_adapter.py\", line 1064, in generator_fn\n    yield x[i]\n\n  File \"/usr/local/lib/python3.10/dist-packages/keras/src/preprocessing/image.py\", line 116, in __getitem__\n    return self._get_batches_of_transformed_samples(index_array)\n\n  File \"/usr/local/lib/python3.10/dist-packages/keras/src/preprocessing/image.py\", line 370, in _get_batches_of_transformed_samples\n    img = image_utils.load_img(\n\n  File \"/usr/local/lib/python3.10/dist-packages/keras/src/utils/image_utils.py\", line 422, in load_img\n    with open(path, \"rb\") as f:\n\nFileNotFoundError: [Errno 2] No such file or directory: '/content/drive/MyDrive/Colab Notebooks/plant/images/Train_991.jpg'\n\n\n\t [[{{node PyFunc}}]]\n\t [[IteratorGetNext]]\n  (1) CANCELLED:  Function was cancelled before it was started\n0 successful operations.\n0 derived errors ignored. [Op:__inference_train_function_67524]"
     ]
    }
   ],
   "source": [
    "# Model training\n",
    "model_history = model.fit_generator(train_generator, epochs=EPOCHS, validation_data=valid_generator, callbacks=[model_checkpoint,lr_callback])"
   ]
  },
  {
   "cell_type": "markdown",
   "metadata": {
    "id": "vQboH9nYf7Wq"
   },
   "source": [
    "### Saving History"
   ]
  },
  {
   "cell_type": "code",
   "execution_count": null,
   "metadata": {
    "id": "Ywx0avYXf7Wq"
   },
   "outputs": [],
   "source": [
    "# Saving model history\n",
    "pd.DataFrame(model_history.history).to_csv('ModelHistory.csv')"
   ]
  },
  {
   "cell_type": "markdown",
   "metadata": {
    "id": "BmpFCxwlf7Wq"
   },
   "source": [
    "### Model History Visualisation"
   ]
  },
  {
   "cell_type": "code",
   "execution_count": null,
   "metadata": {
    "id": "mYFXmJ6Zf7Wr"
   },
   "outputs": [],
   "source": [
    "plt.plot(pd.DataFrame(model_history.history)['accuracy'])\n",
    "plt.title(\"accuracy Plot\")"
   ]
  },
  {
   "cell_type": "code",
   "execution_count": null,
   "metadata": {
    "id": "O9dAFipzf7Wr"
   },
   "outputs": [],
   "source": [
    "plt.plot(pd.DataFrame(model_history.history)['loss'])\n",
    "plt.title(\"Loss Plot\")"
   ]
  },
  {
   "cell_type": "code",
   "execution_count": null,
   "metadata": {
    "id": "-OcT-InHf7Wr"
   },
   "outputs": [],
   "source": [
    "plt.plot(pd.DataFrame(model_history.history)['val_accuracy'])\n",
    "plt.title(\"Validation Accuracy Plot\")"
   ]
  },
  {
   "cell_type": "code",
   "execution_count": null,
   "metadata": {
    "id": "7w98dHLgf7Wr"
   },
   "outputs": [],
   "source": [
    "plt.plot(pd.DataFrame(model_history.history)['val_loss'])\n",
    "plt.title(\"Validation Accuracy Plot\")"
   ]
  },
  {
   "cell_type": "markdown",
   "metadata": {
    "id": "NFuZZvRnf7Wr"
   },
   "source": [
    "# Predicting Classes"
   ]
  },
  {
   "cell_type": "code",
   "execution_count": null,
   "metadata": {
    "id": "ffvWjKFxf7Ws"
   },
   "outputs": [],
   "source": [
    "# Reading testing and submission data\n",
    "test_dataset = pd.read_csv('/content/drive/MyDrive/Colab Notebooks/plant/test.csv')\n",
    "submission = pd.read_csv('/content/drive/MyDrive/Colab Notebooks/plant/sample_submission.csv')\n",
    "test_dataset"
   ]
  },
  {
   "cell_type": "code",
   "execution_count": null,
   "metadata": {
    "id": "IWXYTBhPf7Ws"
   },
   "outputs": [],
   "source": [
    "# Adding .jpg extension to image_id\n",
    "test_dataset['image_id'] = test_dataset['image_id']+'.jpg'"
   ]
  },
  {
   "cell_type": "code",
   "execution_count": null,
   "metadata": {
    "id": "rJH6wMq_f7Ws"
   },
   "outputs": [],
   "source": [
    "test_gen = datagen.flow_from_dataframe(test_dataset,\n",
    "                    directory='/content/drive/MyDrive/Colab Notebooks/plant/images/',\n",
    "                    x_col='image_id',\n",
    "                    target_size=(512, 512),\n",
    "                    class_mode=None,\n",
    "                    shuffle=False,\n",
    "                    batch_size=8)"
   ]
  },
  {
   "cell_type": "code",
   "execution_count": null,
   "metadata": {
    "id": "-0C3bwqSf7Ws"
   },
   "outputs": [],
   "source": [
    "# Predicting class\n",
    "predictions = model.predict_generator(test_gen)"
   ]
  },
  {
   "cell_type": "code",
   "execution_count": null,
   "metadata": {
    "id": "KxEF7R-Qf7Ws"
   },
   "outputs": [],
   "source": [
    "submission['healthy'] = predictions[:, 0]\n",
    "submission['multiple_diseases'] = predictions[:, 1]\n",
    "submission['rust'] = predictions[:, 2]\n",
    "submission['scab'] = predictions[:, 3]"
   ]
  },
  {
   "cell_type": "code",
   "execution_count": null,
   "metadata": {
    "id": "FWsisfB7f7Ws"
   },
   "outputs": [],
   "source": [
    "submission"
   ]
  },
  {
   "cell_type": "code",
   "execution_count": null,
   "metadata": {
    "id": "S4lgWaEzf7Wt"
   },
   "outputs": [],
   "source": [
    "submission.to_csv('submission.csv', index=False)"
   ]
  },
  {
   "cell_type": "code",
   "execution_count": null,
   "metadata": {
    "id": "d_TfAjeYf7Wt"
   },
   "outputs": [],
   "source": []
  }
 ],
 "metadata": {
  "accelerator": "GPU",
  "colab": {
   "provenance": []
  },
  "kernelspec": {
   "display_name": "Python 3 (ipykernel)",
   "language": "python",
   "name": "python3"
  },
  "language_info": {
   "codemirror_mode": {
    "name": "ipython",
    "version": 3
   },
   "file_extension": ".py",
   "mimetype": "text/x-python",
   "name": "python",
   "nbconvert_exporter": "python",
   "pygments_lexer": "ipython3",
   "version": "3.11.1"
  }
 },
 "nbformat": 4,
 "nbformat_minor": 4
}
